{
 "cells": [
  {
   "cell_type": "code",
   "execution_count": 1,
   "id": "5f3a92b6-acdd-4e48-a7f4-93fa36f9eb1e",
   "metadata": {},
   "outputs": [],
   "source": [
    "import numpy as np\n",
    "import pandas as pd\n",
    "crimes = pd.read_csv(\"hate_crime.csv\", low_memory=False)"
   ]
  },
  {
   "cell_type": "markdown",
   "id": "c2711bc2-6bb4-4da6-a759-78be8be96453",
   "metadata": {},
   "source": [
    "## Final Columns in `crimes`\n",
    "1. <a href='#offense_type'>Offense Type</a> \n",
    "2. <a href='#offender_race'>Offender Race<a>\n",
    "3. <a href='#victim_race'>Victim Race<a>\n",
    "4. <a href='#offender_count'>Offender Count<a>\n",
    "5. <a href='#victim_count'>Victim Count<a>\n",
    "6. <a href='#city'>City<a>\n",
    "7. <a href='#state'>State<a>\n",
    "8. <a href='#date'>Date</a>"
   ]
  },
  {
   "cell_type": "markdown",
   "id": "d7e0674e-24a3-4ed6-bd5f-4ec7ae4e5b3a",
   "metadata": {},
   "source": [
    "## Subsetting `crimes`\n",
    "1. <a href='#columns'>Selecting Columns<a>\n",
    "2. <a href='#nulls'>Checking null values<a>\n",
    "2. <a href='#sampling'>Sampling<a>\n",
    "3. <a href='#date_2'>Date (again)<a>\n",
    "4. <a href='#exporting'>Exporting<a>"
   ]
  },
  {
   "cell_type": "markdown",
   "id": "93d68cbf-0ae9-4f61-a1ec-f098c755732a",
   "metadata": {},
   "source": [
    "---"
   ]
  },
  {
   "cell_type": "markdown",
   "id": "9e4cc687-b726-411e-bdc8-d85734727d70",
   "metadata": {},
   "source": [
    "### <a id='offense_type'>Offense Type<a>"
   ]
  },
  {
   "cell_type": "code",
   "execution_count": 2,
   "id": "e898308e-9f09-4c83-9ef7-ab629f2b3560",
   "metadata": {},
   "outputs": [
    {
     "data": {
      "text/plain": [
       "Destruction/Damage/Vandalism of Property                 62147\n",
       "Intimidation                                             58751\n",
       "Simple Assault                                           38042\n",
       "Aggravated Assault                                       20999\n",
       "Robbery                                                   3454\n",
       "Burglary/Breaking & Entering                              2670\n",
       "Destruction/Damage/Vandalism of Property;Intimidation     1774\n",
       "All Other Larceny                                         1616\n",
       "Name: OFFENSE_NAME, dtype: int64"
      ]
     },
     "execution_count": 2,
     "metadata": {},
     "output_type": "execute_result"
    }
   ],
   "source": [
    "crimes['OFFENSE_NAME'].value_counts().head(8)"
   ]
  },
  {
   "cell_type": "code",
   "execution_count": 3,
   "id": "26b7746f-ace0-41fc-9911-889ede734956",
   "metadata": {},
   "outputs": [
    {
     "name": "stdout",
     "output_type": "stream",
     "text": [
      "Number of Least Common Offense Types: 21464\n",
      "Number of Most Common Offense Types:  179939\n"
     ]
    }
   ],
   "source": [
    "# boolean series length of `crimes`\n",
    "offense_type_not_in_top_4 = ~crimes['OFFENSE_NAME'].isin(['Destruction/Damage/Vandalism of Property', \n",
    "                                                          'Intimidation', \n",
    "                                                          'Simple Assault', \n",
    "                                                          'Aggravated Assault'])\n",
    "# boolean series length of `crimes`\n",
    "offense_type_in_top_4 = crimes['OFFENSE_NAME'].isin(['Destruction/Damage/Vandalism of Property', \n",
    "                                                     'Intimidation', \n",
    "                                                     'Simple Assault', \n",
    "                                                     'Aggravated Assault'])\n",
    "\n",
    "print('Number of Least Common Offense Types: ' + str(len(crimes[offense_type_not_in_top_4])))\n",
    "print('Number of Most Common Offense Types:  ' + str(len(crimes[offense_type_in_top_4])))"
   ]
  },
  {
   "cell_type": "markdown",
   "id": "815b3078-4493-42cf-a326-f5e59dfdb152",
   "metadata": {},
   "source": [
    "**The four most common offenses make up most of the data. For simplicity, we will limit our analysis to these types of offenses.**"
   ]
  },
  {
   "cell_type": "code",
   "execution_count": 4,
   "id": "64065831-0e54-4168-8313-66707f12e882",
   "metadata": {},
   "outputs": [
    {
     "data": {
      "text/plain": [
       "Destruction/Damage/Vandalism of Property    62147\n",
       "Intimidation                                58751\n",
       "Simple Assault                              38042\n",
       "Aggravated Assault                          20999\n",
       "Name: OFFENSE_NAME, dtype: int64"
      ]
     },
     "execution_count": 4,
     "metadata": {},
     "output_type": "execute_result"
    }
   ],
   "source": [
    "# drop rows \n",
    "crimes = crimes.drop(crimes[offense_type_not_in_top_4].index)\n",
    "crimes['OFFENSE_NAME'].value_counts()"
   ]
  },
  {
   "cell_type": "markdown",
   "id": "49b10878-9ae3-4ee3-bdb4-329f2b273615",
   "metadata": {},
   "source": [
    "### <a id='offender_race'>Offender Race<a>"
   ]
  },
  {
   "cell_type": "code",
   "execution_count": 5,
   "id": "af918741-7d09-4050-9b58-79523abc140f",
   "metadata": {},
   "outputs": [
    {
     "data": {
      "text/plain": [
       "Unknown                                      80551\n",
       "White                                        71544\n",
       "Black or African American                    22122\n",
       "Multiple                                      3399\n",
       "Asian                                         1326\n",
       "American Indian or Alaska Native               945\n",
       "Native Hawaiian or Other Pacific Islander       35\n",
       "Name: OFFENDER_RACE, dtype: int64"
      ]
     },
     "execution_count": 5,
     "metadata": {},
     "output_type": "execute_result"
    }
   ],
   "source": [
    "crimes['OFFENDER_RACE'].value_counts()"
   ]
  },
  {
   "cell_type": "markdown",
   "id": "71c7c020-813b-4624-8a5a-c83685217417",
   "metadata": {},
   "source": [
    "**There appears to be no problems here, though we may revisit later.**"
   ]
  },
  {
   "cell_type": "markdown",
   "id": "bfab4cbd-440d-4a3a-b8a8-9d39be6cd522",
   "metadata": {},
   "source": [
    "### <a id='victim_race'>Victim Race<a>"
   ]
  },
  {
   "cell_type": "markdown",
   "id": "ad0296a7-c52b-4d09-b297-8e5dc8839b0b",
   "metadata": {},
   "source": [
    "**Victim race isn't explicitly given, so we must extract it from `BIAS_DESC`**"
   ]
  },
  {
   "cell_type": "code",
   "execution_count": 6,
   "id": "eaa9a426-14bd-478b-9bea-d9cfbe46a2b2",
   "metadata": {},
   "outputs": [
    {
     "data": {
      "text/plain": [
       "array(['Anti-Black or African American', 'Anti-White', 'Anti-Jewish',\n",
       "       'Anti-Arab', 'Anti-Protestant', 'Anti-Other Religion',\n",
       "       'Anti-Islamic (Muslim)', 'Anti-Gay (Male)', 'Anti-Asian',\n",
       "       'Anti-Catholic', 'Anti-Heterosexual', 'Anti-Hispanic or Latino',\n",
       "       'Anti-Other Race/Ethnicity/Ancestry',\n",
       "       'Anti-Multiple Religions, Group', 'Anti-Multiple Races, Group',\n",
       "       'Anti-Lesbian (Female)',\n",
       "       'Anti-Lesbian, Gay, Bisexual, or Transgender (Mixed Group)',\n",
       "       'Anti-American Indian or Alaska Native',\n",
       "       'Anti-Atheism/Agnosticism', 'Anti-Bisexual'], dtype=object)"
      ]
     },
     "execution_count": 6,
     "metadata": {},
     "output_type": "execute_result"
    }
   ],
   "source": [
    "crimes['BIAS_DESC'].unique()[:20]"
   ]
  },
  {
   "cell_type": "markdown",
   "id": "7bd4cde5-adc2-4bc8-9383-8c1f13074f65",
   "metadata": {},
   "source": [
    "**There are many attributes unrelated to race here. Furthermore, we want to limit the data to only include hate crimes where the victim race fits in one of the buckets available for offender race. We'll use a map to accomplish this.**"
   ]
  },
  {
   "cell_type": "code",
   "execution_count": 7,
   "id": "aca0c375-b5cc-4aed-98e4-4ef20a334fb7",
   "metadata": {},
   "outputs": [
    {
     "data": {
      "text/plain": [
       "Unknown                                      86040\n",
       "Black or African American                    64199\n",
       "White                                        18614\n",
       "Asian                                         5280\n",
       "Multiple                                      4473\n",
       "American Indian or Alaska Native              1298\n",
       "Native Hawaiian or Other Pacific Islander       35\n",
       "Name: VICTIM_RACE, dtype: int64"
      ]
     },
     "execution_count": 7,
     "metadata": {},
     "output_type": "execute_result"
    }
   ],
   "source": [
    "crimes['VICTIM_RACE'] = (crimes['BIAS_DESC'].map({'Anti-White': 'White',\n",
    "                                                  'Anti-Black or African American': 'Black or African American', \n",
    "                                                  'Anti-Multiple Races, Group': 'Multiple', \n",
    "                                                  'Anti-Asian': 'Asian', \n",
    "                                                  'Anti-American Indian or Alaska Native': 'American Indian or Alaska Native', \n",
    "                                                  'Anti-Native Hawaiian or Other Pacific Islander': 'Native Hawaiian or Other Pacific Islander'})\n",
    "                         .fillna('Unknown'))\n",
    "crimes['VICTIM_RACE'].value_counts()"
   ]
  },
  {
   "cell_type": "markdown",
   "id": "9c2b1848-00f6-488f-9221-829e63b2328f",
   "metadata": {},
   "source": [
    "### <a id='offender_count'>Offender Count<a>"
   ]
  },
  {
   "cell_type": "code",
   "execution_count": 8,
   "id": "b9824ef1-13e1-4830-912f-2d939d6737ad",
   "metadata": {},
   "outputs": [
    {
     "data": {
      "text/plain": [
       "1    84073\n",
       "0    67358\n",
       "2    15966\n",
       "3     6728\n",
       "4     2800\n",
       "Name: TOTAL_OFFENDER_COUNT, dtype: int64"
      ]
     },
     "execution_count": 8,
     "metadata": {},
     "output_type": "execute_result"
    }
   ],
   "source": [
    "crimes['TOTAL_OFFENDER_COUNT'].value_counts().head()"
   ]
  },
  {
   "cell_type": "markdown",
   "id": "654036c3-b232-4861-b01b-e37d1ab27ae7",
   "metadata": {},
   "source": [
    "**There appears to be no problems here, though we may revisit later.**"
   ]
  },
  {
   "cell_type": "markdown",
   "id": "726b3d85-054d-4977-be62-0140df37d1a5",
   "metadata": {},
   "source": [
    "### <a id='victim_count'>Victim Count<a>"
   ]
  },
  {
   "cell_type": "code",
   "execution_count": 9,
   "id": "dbc7df8b-33c8-4d3e-b396-2ea0628e68ef",
   "metadata": {},
   "outputs": [
    {
     "data": {
      "text/plain": [
       "1    157042\n",
       "2     17208\n",
       "3      3470\n",
       "4      1121\n",
       "5       474\n",
       "Name: VICTIM_COUNT, dtype: int64"
      ]
     },
     "execution_count": 9,
     "metadata": {},
     "output_type": "execute_result"
    }
   ],
   "source": [
    "crimes['VICTIM_COUNT'].value_counts().head()"
   ]
  },
  {
   "cell_type": "markdown",
   "id": "ff8406e4-0541-4fa9-a0e6-325a1b2ebeb2",
   "metadata": {},
   "source": [
    "**There appears to be no problems here, though we may revisit later.**"
   ]
  },
  {
   "cell_type": "markdown",
   "id": "2f5c9234-592e-47a8-a8ed-3db29014e7e2",
   "metadata": {},
   "source": [
    "### <a id='city'>City<a>"
   ]
  },
  {
   "cell_type": "code",
   "execution_count": 10,
   "id": "a352ad3b-cfaf-4cac-a574-247456cb5977",
   "metadata": {},
   "outputs": [
    {
     "data": {
      "text/plain": [
       "New York         9364\n",
       "Los Angeles      7281\n",
       "Boston           4022\n",
       "Phoenix          3388\n",
       "San Francisco    2974\n",
       "                 ... \n",
       "Mooreland           1\n",
       "Frontenac           1\n",
       "Firestone           1\n",
       "Glenns Ferry        1\n",
       "Plaistow            1\n",
       "Name: PUB_AGENCY_NAME, Length: 5974, dtype: int64"
      ]
     },
     "execution_count": 10,
     "metadata": {},
     "output_type": "execute_result"
    }
   ],
   "source": [
    "crimes['PUB_AGENCY_NAME'].value_counts()"
   ]
  },
  {
   "cell_type": "markdown",
   "id": "b5293dea-c8d5-4325-8b68-1e22f71c6791",
   "metadata": {},
   "source": [
    "**There appears to be no problems here, though we may revisit later.**"
   ]
  },
  {
   "cell_type": "markdown",
   "id": "2d4d6017-ca42-492d-baec-5d0e2424f04d",
   "metadata": {},
   "source": [
    "### <a id='state'>State<a>"
   ]
  },
  {
   "cell_type": "code",
   "execution_count": 11,
   "id": "874593d8-fd23-4557-9376-9b7dc8d6bcf8",
   "metadata": {},
   "outputs": [
    {
     "data": {
      "text/plain": [
       "53"
      ]
     },
     "execution_count": 11,
     "metadata": {},
     "output_type": "execute_result"
    }
   ],
   "source": [
    "crimes['STATE_NAME'].nunique()"
   ]
  },
  {
   "cell_type": "markdown",
   "id": "26b3460c-1a51-4510-87f4-ed0708e73615",
   "metadata": {},
   "source": [
    "**We are only intended on handling 51 state names (50 states + D.C.). Since we have more than 51 unique state names, we'll need to filter the extra's out.**"
   ]
  },
  {
   "cell_type": "code",
   "execution_count": 12,
   "id": "bbf84705-00a8-403c-aa17-b4dfd993603b",
   "metadata": {},
   "outputs": [
    {
     "data": {
      "text/plain": [
       "Wyoming        148\n",
       "Mississippi     76\n",
       "Hawaii          41\n",
       "Federal         20\n",
       "Guam             5\n",
       "Name: STATE_NAME, dtype: int64"
      ]
     },
     "execution_count": 12,
     "metadata": {},
     "output_type": "execute_result"
    }
   ],
   "source": [
    "crimes['STATE_NAME'].value_counts().tail()"
   ]
  },
  {
   "cell_type": "markdown",
   "id": "d95a41d4-3374-4912-aef5-b734e5bbf7f9",
   "metadata": {},
   "source": [
    "**We were not intending on handling `Federal` and `Guam`, thus we will remove them from analyses.**"
   ]
  },
  {
   "cell_type": "code",
   "execution_count": 13,
   "id": "491641dc-4ec0-4883-a5c2-750d7ececdc0",
   "metadata": {},
   "outputs": [
    {
     "data": {
      "text/plain": [
       "Alaska         201\n",
       "Alabama        181\n",
       "Wyoming        148\n",
       "Mississippi     76\n",
       "Hawaii          41\n",
       "Name: STATE_NAME, dtype: int64"
      ]
     },
     "execution_count": 13,
     "metadata": {},
     "output_type": "execute_result"
    }
   ],
   "source": [
    "# drop rows with 'STATE_NAME' as Federal or Guam\n",
    "crimes = crimes.drop(crimes[crimes['STATE_NAME'].isin(['Federal', 'Guam'])].index)\n",
    "crimes['STATE_NAME'].value_counts().tail()"
   ]
  },
  {
   "cell_type": "markdown",
   "id": "8418dd92-9d5c-4b8b-9211-fe213542fa18",
   "metadata": {},
   "source": [
    "### <a id='date'>Date<a>"
   ]
  },
  {
   "cell_type": "code",
   "execution_count": 14,
   "id": "54a2f9d1-de2b-429c-9e45-8668d19155c0",
   "metadata": {},
   "outputs": [],
   "source": [
    "# crimes['date'] = crimes.loc[:, 'INCIDENT_DATE'].apply(pd.to_datetime)"
   ]
  },
  {
   "cell_type": "markdown",
   "id": "5860c3b5-6d02-4235-a7f5-855e770c1d45",
   "metadata": {},
   "source": [
    "**The code above would take forever to run because our dataset is still very large. So we will save this operation for the end.**"
   ]
  },
  {
   "cell_type": "markdown",
   "id": "251673c5-566e-46cd-af92-4fce7adf28bf",
   "metadata": {},
   "source": [
    "---"
   ]
  },
  {
   "cell_type": "markdown",
   "id": "eb02635e-a30c-4836-a19c-9d4cd6fc54ff",
   "metadata": {},
   "source": [
    "### <a id='columns'>Selecting Columns<a>"
   ]
  },
  {
   "cell_type": "code",
   "execution_count": 15,
   "id": "0d92902b-33f6-451a-bc87-516ad746e6fa",
   "metadata": {},
   "outputs": [
    {
     "data": {
      "text/html": [
       "<div>\n",
       "<style scoped>\n",
       "    .dataframe tbody tr th:only-of-type {\n",
       "        vertical-align: middle;\n",
       "    }\n",
       "\n",
       "    .dataframe tbody tr th {\n",
       "        vertical-align: top;\n",
       "    }\n",
       "\n",
       "    .dataframe thead th {\n",
       "        text-align: right;\n",
       "    }\n",
       "</style>\n",
       "<table border=\"1\" class=\"dataframe\">\n",
       "  <thead>\n",
       "    <tr style=\"text-align: right;\">\n",
       "      <th></th>\n",
       "      <th>offense_type</th>\n",
       "      <th>offender_race</th>\n",
       "      <th>victim_race</th>\n",
       "      <th>offender_count</th>\n",
       "      <th>victim_count</th>\n",
       "      <th>city</th>\n",
       "      <th>state</th>\n",
       "      <th>date</th>\n",
       "    </tr>\n",
       "  </thead>\n",
       "  <tbody>\n",
       "    <tr>\n",
       "      <th>0</th>\n",
       "      <td>Intimidation</td>\n",
       "      <td>White</td>\n",
       "      <td>Black or African American</td>\n",
       "      <td>1</td>\n",
       "      <td>1</td>\n",
       "      <td>Rogers</td>\n",
       "      <td>Arkansas</td>\n",
       "      <td>31-AUG-91</td>\n",
       "    </tr>\n",
       "    <tr>\n",
       "      <th>1</th>\n",
       "      <td>Simple Assault</td>\n",
       "      <td>Black or African American</td>\n",
       "      <td>White</td>\n",
       "      <td>1</td>\n",
       "      <td>1</td>\n",
       "      <td>Hope</td>\n",
       "      <td>Arkansas</td>\n",
       "      <td>19-SEP-91</td>\n",
       "    </tr>\n",
       "    <tr>\n",
       "      <th>2</th>\n",
       "      <td>Aggravated Assault</td>\n",
       "      <td>Black or African American</td>\n",
       "      <td>Black or African American</td>\n",
       "      <td>1</td>\n",
       "      <td>1</td>\n",
       "      <td>Pine Bluff</td>\n",
       "      <td>Arkansas</td>\n",
       "      <td>04-JUL-91</td>\n",
       "    </tr>\n",
       "    <tr>\n",
       "      <th>4</th>\n",
       "      <td>Aggravated Assault</td>\n",
       "      <td>Black or African American</td>\n",
       "      <td>White</td>\n",
       "      <td>1</td>\n",
       "      <td>1</td>\n",
       "      <td>Pine Bluff</td>\n",
       "      <td>Arkansas</td>\n",
       "      <td>23-DEC-91</td>\n",
       "    </tr>\n",
       "    <tr>\n",
       "      <th>6</th>\n",
       "      <td>Aggravated Assault</td>\n",
       "      <td>Black or African American</td>\n",
       "      <td>White</td>\n",
       "      <td>2</td>\n",
       "      <td>1</td>\n",
       "      <td>Little Rock</td>\n",
       "      <td>Arkansas</td>\n",
       "      <td>14-NOV-91</td>\n",
       "    </tr>\n",
       "  </tbody>\n",
       "</table>\n",
       "</div>"
      ],
      "text/plain": [
       "         offense_type              offender_race                victim_race  \\\n",
       "0        Intimidation                      White  Black or African American   \n",
       "1      Simple Assault  Black or African American                      White   \n",
       "2  Aggravated Assault  Black or African American  Black or African American   \n",
       "4  Aggravated Assault  Black or African American                      White   \n",
       "6  Aggravated Assault  Black or African American                      White   \n",
       "\n",
       "   offender_count  victim_count         city     state       date  \n",
       "0               1             1       Rogers  Arkansas  31-AUG-91  \n",
       "1               1             1         Hope  Arkansas  19-SEP-91  \n",
       "2               1             1   Pine Bluff  Arkansas  04-JUL-91  \n",
       "4               1             1   Pine Bluff  Arkansas  23-DEC-91  \n",
       "6               2             1  Little Rock  Arkansas  14-NOV-91  "
      ]
     },
     "execution_count": 15,
     "metadata": {},
     "output_type": "execute_result"
    }
   ],
   "source": [
    "crimes = crimes[['OFFENSE_NAME', 'OFFENDER_RACE', 'VICTIM_RACE', 'TOTAL_OFFENDER_COUNT', 'VICTIM_COUNT', 'PUB_AGENCY_NAME', 'STATE_NAME', 'INCIDENT_DATE']]\n",
    "crimes = crimes.rename(columns={'OFFENSE_NAME': 'offense_type', \n",
    "                                'OFFENDER_RACE': 'offender_race', \n",
    "                                'VICTIM_RACE': 'victim_race', \n",
    "                                'TOTAL_OFFENDER_COUNT': 'offender_count', \n",
    "                                'VICTIM_COUNT': 'victim_count', \n",
    "                                'PUB_AGENCY_NAME': 'city', \n",
    "                                'STATE_NAME': 'state', \n",
    "                                'INCIDENT_DATE': 'date'})\n",
    "crimes.head()"
   ]
  },
  {
   "cell_type": "markdown",
   "id": "cef56f4d-cbbb-4b35-8eb5-2fce630f0023",
   "metadata": {},
   "source": [
    "**For our visualizations, we only need the columns listed above. To save on memory, we select them from our full dataset.**"
   ]
  },
  {
   "cell_type": "markdown",
   "id": "9cbe9f0a-eb33-477f-b7f7-3357aa7a6e00",
   "metadata": {},
   "source": [
    "### <a id='nulls'>Checking null values<a>"
   ]
  },
  {
   "cell_type": "code",
   "execution_count": 16,
   "id": "9b84c733-3687-47ad-a032-b367d962a62f",
   "metadata": {},
   "outputs": [
    {
     "data": {
      "text/plain": [
       "offense_type       0\n",
       "offender_race     17\n",
       "victim_race        0\n",
       "offender_count     0\n",
       "victim_count       0\n",
       "city               0\n",
       "state              0\n",
       "date               0\n",
       "dtype: int64"
      ]
     },
     "execution_count": 16,
     "metadata": {},
     "output_type": "execute_result"
    }
   ],
   "source": [
    "crimes.isna().sum()"
   ]
  },
  {
   "cell_type": "markdown",
   "id": "e138a979-7959-45f8-a46c-447bfdec4f84",
   "metadata": {},
   "source": [
    "**There are a small number of `null` values for the offender race. To prevent later errors, we will remove them now.**"
   ]
  },
  {
   "cell_type": "code",
   "execution_count": 17,
   "id": "a3fd03f9-2921-4516-abe3-680ad86c11d6",
   "metadata": {},
   "outputs": [
    {
     "name": "stdout",
     "output_type": "stream",
     "text": [
      "Length before dropping nulls: 179914\n",
      "\n",
      "offense_type      0\n",
      "offender_race     0\n",
      "victim_race       0\n",
      "offender_count    0\n",
      "victim_count      0\n",
      "city              0\n",
      "state             0\n",
      "date              0\n",
      "dtype: int64\n",
      "\n",
      "Length after dropping nulls: 179897\n"
     ]
    }
   ],
   "source": [
    "print('Length before dropping nulls: ' + str(len(crimes)))\n",
    "print()\n",
    "crimes = crimes.dropna()\n",
    "print(crimes.isna().sum())\n",
    "print()\n",
    "print('Length after dropping nulls: ' + str(len(crimes)))"
   ]
  },
  {
   "cell_type": "markdown",
   "id": "f8f85d37-b5f6-450a-937f-4a05c4779085",
   "metadata": {},
   "source": [
    "### <a id='sampling'>Sampling<a>"
   ]
  },
  {
   "cell_type": "code",
   "execution_count": 18,
   "id": "beaeaaed-10fc-4966-b13e-336f99a92459",
   "metadata": {},
   "outputs": [
    {
     "data": {
      "text/plain": [
       "179897"
      ]
     },
     "execution_count": 18,
     "metadata": {},
     "output_type": "execute_result"
    }
   ],
   "source": [
    "len(crimes)"
   ]
  },
  {
   "cell_type": "markdown",
   "id": "8290c091-8701-47d8-992e-4d83f4930ea4",
   "metadata": {},
   "source": [
    "**Ideally, the dataset we work with in d3 is less than 20,000 rows. To accomplish this without messing with the relative proportions of our data, we will randomly sample 10% of the rows remaining and export these. Later in d3, we will scale up accordingly in order to convey accurate information**"
   ]
  },
  {
   "cell_type": "code",
   "execution_count": 19,
   "id": "f460206b-fc3e-4096-9064-9c55a19b7270",
   "metadata": {},
   "outputs": [
    {
     "data": {
      "text/plain": [
       "17989"
      ]
     },
     "execution_count": 19,
     "metadata": {},
     "output_type": "execute_result"
    }
   ],
   "source": [
    "crimes = crimes.sample(n=int(len(crimes) / 10), replace=False, random_state=10).reset_index().drop(columns=['index'])\n",
    "len(crimes)"
   ]
  },
  {
   "cell_type": "markdown",
   "id": "bc9c2bea-f5e5-4ad7-80ca-dce40e3db349",
   "metadata": {},
   "source": [
    "### <a id='date_2'>Date (again)<a>"
   ]
  },
  {
   "cell_type": "code",
   "execution_count": 20,
   "id": "c16222b6-7a08-4806-a62b-46bfed4dba3c",
   "metadata": {
    "tags": []
   },
   "outputs": [],
   "source": [
    "crimes['date'] = crimes['date'].apply(pd.to_datetime)"
   ]
  },
  {
   "cell_type": "markdown",
   "id": "8d615948-0774-4e1e-a2ce-ed2bb70725f0",
   "metadata": {},
   "source": [
    "**Now the code runs more quickly.**"
   ]
  },
  {
   "cell_type": "markdown",
   "id": "52bb3299-23df-4212-a367-1c5a18c22d09",
   "metadata": {},
   "source": [
    "### <a id='exporting'>Exporting<a>"
   ]
  },
  {
   "cell_type": "code",
   "execution_count": 21,
   "id": "65aa465d-7919-454f-88a6-ac22b29980ac",
   "metadata": {},
   "outputs": [
    {
     "data": {
      "text/html": [
       "<div>\n",
       "<style scoped>\n",
       "    .dataframe tbody tr th:only-of-type {\n",
       "        vertical-align: middle;\n",
       "    }\n",
       "\n",
       "    .dataframe tbody tr th {\n",
       "        vertical-align: top;\n",
       "    }\n",
       "\n",
       "    .dataframe thead th {\n",
       "        text-align: right;\n",
       "    }\n",
       "</style>\n",
       "<table border=\"1\" class=\"dataframe\">\n",
       "  <thead>\n",
       "    <tr style=\"text-align: right;\">\n",
       "      <th></th>\n",
       "      <th>offense_type</th>\n",
       "      <th>offender_race</th>\n",
       "      <th>victim_race</th>\n",
       "      <th>offender_count</th>\n",
       "      <th>victim_count</th>\n",
       "      <th>city</th>\n",
       "      <th>state</th>\n",
       "      <th>date</th>\n",
       "    </tr>\n",
       "  </thead>\n",
       "  <tbody>\n",
       "    <tr>\n",
       "      <th>0</th>\n",
       "      <td>Simple Assault</td>\n",
       "      <td>Black or African American</td>\n",
       "      <td>Unknown</td>\n",
       "      <td>1</td>\n",
       "      <td>1</td>\n",
       "      <td>Seattle</td>\n",
       "      <td>Washington</td>\n",
       "      <td>2016-04-05</td>\n",
       "    </tr>\n",
       "    <tr>\n",
       "      <th>1</th>\n",
       "      <td>Destruction/Damage/Vandalism of Property</td>\n",
       "      <td>Unknown</td>\n",
       "      <td>Black or African American</td>\n",
       "      <td>0</td>\n",
       "      <td>1</td>\n",
       "      <td>State Police:</td>\n",
       "      <td>Maryland</td>\n",
       "      <td>2000-04-29</td>\n",
       "    </tr>\n",
       "    <tr>\n",
       "      <th>2</th>\n",
       "      <td>Intimidation</td>\n",
       "      <td>White</td>\n",
       "      <td>Black or African American</td>\n",
       "      <td>1</td>\n",
       "      <td>1</td>\n",
       "      <td>Fairfax City</td>\n",
       "      <td>Virginia</td>\n",
       "      <td>1993-01-01</td>\n",
       "    </tr>\n",
       "    <tr>\n",
       "      <th>3</th>\n",
       "      <td>Intimidation</td>\n",
       "      <td>Unknown</td>\n",
       "      <td>Black or African American</td>\n",
       "      <td>0</td>\n",
       "      <td>1</td>\n",
       "      <td>Boston</td>\n",
       "      <td>Massachusetts</td>\n",
       "      <td>2003-08-13</td>\n",
       "    </tr>\n",
       "    <tr>\n",
       "      <th>4</th>\n",
       "      <td>Destruction/Damage/Vandalism of Property</td>\n",
       "      <td>Unknown</td>\n",
       "      <td>Unknown</td>\n",
       "      <td>0</td>\n",
       "      <td>1</td>\n",
       "      <td>Washington</td>\n",
       "      <td>District of Columbia</td>\n",
       "      <td>2017-09-11</td>\n",
       "    </tr>\n",
       "  </tbody>\n",
       "</table>\n",
       "</div>"
      ],
      "text/plain": [
       "                               offense_type              offender_race  \\\n",
       "0                            Simple Assault  Black or African American   \n",
       "1  Destruction/Damage/Vandalism of Property                    Unknown   \n",
       "2                              Intimidation                      White   \n",
       "3                              Intimidation                    Unknown   \n",
       "4  Destruction/Damage/Vandalism of Property                    Unknown   \n",
       "\n",
       "                 victim_race  offender_count  victim_count           city  \\\n",
       "0                    Unknown               1             1        Seattle   \n",
       "1  Black or African American               0             1  State Police:   \n",
       "2  Black or African American               1             1   Fairfax City   \n",
       "3  Black or African American               0             1         Boston   \n",
       "4                    Unknown               0             1     Washington   \n",
       "\n",
       "                  state       date  \n",
       "0            Washington 2016-04-05  \n",
       "1              Maryland 2000-04-29  \n",
       "2              Virginia 1993-01-01  \n",
       "3         Massachusetts 2003-08-13  \n",
       "4  District of Columbia 2017-09-11  "
      ]
     },
     "execution_count": 21,
     "metadata": {},
     "output_type": "execute_result"
    }
   ],
   "source": [
    "crimes.head()"
   ]
  },
  {
   "cell_type": "code",
   "execution_count": 22,
   "id": "ecbb97a6-a17e-4e0f-9159-e255a6c16dd3",
   "metadata": {},
   "outputs": [],
   "source": [
    "crimes.to_csv('crimes.csv', index=False)"
   ]
  }
 ],
 "metadata": {
  "kernelspec": {
   "display_name": "Python 3",
   "language": "python",
   "name": "python3"
  },
  "language_info": {
   "codemirror_mode": {
    "name": "ipython",
    "version": 3
   },
   "file_extension": ".py",
   "mimetype": "text/x-python",
   "name": "python",
   "nbconvert_exporter": "python",
   "pygments_lexer": "ipython3",
   "version": "3.9.0"
  }
 },
 "nbformat": 4,
 "nbformat_minor": 5
}
